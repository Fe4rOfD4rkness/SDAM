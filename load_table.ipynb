{
 "cells": [
  {
   "cell_type": "code",
   "execution_count": 1,
   "metadata": {},
   "outputs": [],
   "source": [
    "import pandas as pd"
   ]
  },
  {
   "cell_type": "code",
   "execution_count": 2,
   "metadata": {},
   "outputs": [
    {
     "name": "stderr",
     "output_type": "stream",
     "text": [
      "C:\\Users\\duerk\\AppData\\Local\\Temp\\ipykernel_4900\\3094934314.py:1: DtypeWarning: Columns (4) have mixed types. Specify dtype option on import or set low_memory=False.\n",
      "  df = pd.read_csv(\"C:\\\\Users\\\\duerk\\\\Downloads\\\\instinfo_beta.txt\", delimiter=\"\\t\")\n"
     ]
    }
   ],
   "source": [
    "df = pd.read_csv(\"C:\\\\Users\\\\duerk\\\\Downloads\\\\instinfo_beta.txt\", delimiter=\"\\t\")"
   ]
  },
  {
   "cell_type": "code",
   "execution_count": 4,
   "metadata": {},
   "outputs": [
    {
     "data": {
      "text/plain": [
       "Index(['bead_batch', 'nearest_dose', 'pert_dose', 'pert_dose_unit',\n",
       "       'pert_idose', 'pert_time', 'pert_itime', 'pert_time_unit',\n",
       "       'cell_mfc_name', 'pert_mfc_id', 'det_plate', 'det_well', 'rna_plate',\n",
       "       'rna_well', 'count_mean', 'count_cv', 'qc_f_logp', 'qc_iqr', 'qc_slope',\n",
       "       'pert_id', 'sample_id', 'pert_type', 'cell_iname', 'qc_pass',\n",
       "       'dyn_range', 'inv_level_10', 'build_name', 'failure_mode',\n",
       "       'project_code', 'cmap_name'],\n",
       "      dtype='object')"
      ]
     },
     "execution_count": 4,
     "metadata": {},
     "output_type": "execute_result"
    }
   ],
   "source": [
    "df.columns"
   ]
  },
  {
   "cell_type": "code",
   "execution_count": 5,
   "metadata": {},
   "outputs": [
    {
     "data": {
      "text/plain": [
       "0          18\n",
       "1          18\n",
       "2          17\n",
       "3          15\n",
       "4          26\n",
       "           ..\n",
       "3026455    13\n",
       "3026456    16\n",
       "3026457    19\n",
       "3026458    17\n",
       "3026459    17\n",
       "Name: count_cv, Length: 3026460, dtype: int64"
      ]
     },
     "execution_count": 5,
     "metadata": {},
     "output_type": "execute_result"
    }
   ],
   "source": [
    "df[\"count_cv\"]"
   ]
  }
 ],
 "metadata": {
  "kernelspec": {
   "display_name": "Python 3",
   "language": "python",
   "name": "python3"
  },
  "language_info": {
   "codemirror_mode": {
    "name": "ipython",
    "version": 3
   },
   "file_extension": ".py",
   "mimetype": "text/x-python",
   "name": "python",
   "nbconvert_exporter": "python",
   "pygments_lexer": "ipython3",
   "version": "3.10.0"
  }
 },
 "nbformat": 4,
 "nbformat_minor": 2
}
